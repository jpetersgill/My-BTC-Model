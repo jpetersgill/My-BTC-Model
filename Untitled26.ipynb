{
 "cells": [
  {
   "cell_type": "code",
   "execution_count": 373,
   "metadata": {},
   "outputs": [],
   "source": [
    "import pandas as pd\n",
    "import numpy as np\n",
    "import math\n",
    "\n",
    "from sklearn.model_selection import TimeSeriesSplit\n",
    "from sklearn.tree import DecisionTreeRegressor\n",
    "from sklearn.metrics import mean_absolute_error\n",
    "from sklearn.model_selection import train_test_split"
   ]
  },
  {
   "cell_type": "code",
   "execution_count": 374,
   "metadata": {},
   "outputs": [],
   "source": [
    "csv_file = 'BTC_USD Bitfinex Historical Data-2.csv'\n",
    "df = pd.read_csv(csv_file, thousands=',')\n",
    "df = df[['Price', 'Open', 'High', 'Low', 'Change %']]\n",
    "df['Change %'] = [x[:-1] for x in df['Change %']]\n",
    "\n",
    "df = pd.DataFrame(df)\n",
    "\n",
    "training_data = df.iloc[1:42]\n",
    "testing_data = df.iloc[42:]"
   ]
  },
  {
   "cell_type": "code",
   "execution_count": 375,
   "metadata": {},
   "outputs": [],
   "source": [
    "X1 = training_data[['Price', 'Open', 'High', 'Low']]\n",
    "y1 = training_data['Change %']\n",
    "\n",
    "X2 = testing_data[['Price', 'Open', 'High', 'Low']]\n",
    "y2 = testing_data['Change %']"
   ]
  },
  {
   "cell_type": "code",
   "execution_count": 393,
   "metadata": {},
   "outputs": [],
   "source": [
    "def model_tester(model, X1, y1, X2, y2):\n",
    "    \n",
    "    tuned_model = model(X1, y1)\n",
    "    y_preds = tuned_model.predict(X2)\n",
    "    mae = mean_absolute_error(y_preds, y2)\n",
    "    \n",
    "    return mae"
   ]
  },
  {
   "cell_type": "code",
   "execution_count": 394,
   "metadata": {},
   "outputs": [],
   "source": [
    "def decision_tree_mae(train_X, test_X, train_y, test_y, max_leaf_nodes):\n",
    "    model = DecisionTreeRegressor(max_leaf_nodes = max_leaf_nodes, \n",
    "                                  random_state=0)\n",
    "    model.fit(train_X, train_y)\n",
    "    preds_y = model.predict(test_X)\n",
    "    mae = mean_absolute_error(test_y, preds_y)\n",
    "    return mae\n",
    "\n",
    "\n",
    "def decision_tree_crossval_mae(data_X, data_y, max_leaf_nodes, no_of_iterations):\n",
    "    \n",
    "    n = no_of_iterations\n",
    "    \n",
    "    list_of_maes = []\n",
    "    \n",
    "    for i in range(0, n):\n",
    "        X_train, X_test, y_train, y_test = train_test_split(data_X, data_y, \n",
    "                                                            test_size=0.4, random_state=i)\n",
    "        mae = decision_tree_mae(X_train, X_test, y_train, y_test, max_leaf_nodes)\n",
    "        list_of_maes.append(mae)\n",
    "    ret = sum(list_of_maes) / len(list_of_maes)\n",
    "    \n",
    "    return ret\n",
    "\n",
    "\n",
    "def best_max_leaf_nodes(n, data_X, data_y):\n",
    "    x =[]\n",
    "    for i in range(2, n):\n",
    "        x.append(decision_tree_crossval_mae(data_X, data_y, i, 25))\n",
    "    m = min(x)\n",
    "    ret = [i for i, j in enumerate(x) if j == m]\n",
    "    ret = min(ret) + 2\n",
    "    print(\"max leaf nodes:\", ret)\n",
    "    return ret\n",
    "\n",
    "\n",
    "def decision_tree_model(data_X, data_y):\n",
    "    \n",
    "    max_leaf_nodes = best_max_leaf_nodes(25, data_X, data_y)\n",
    "    model = DecisionTreeRegressor(max_leaf_nodes = max_leaf_nodes, \n",
    "                                  random_state=0)\n",
    "    model.fit(data_X, data_y)\n",
    "    \n",
    "    return model\n",
    "\n",
    "\n",
    "\n",
    "\n",
    "# why do all this? It prevents overfitting."
   ]
  },
  {
   "cell_type": "code",
   "execution_count": 398,
   "metadata": {
    "collapsed": true
   },
   "outputs": [],
   "source": [
    "def random_forest_mae(train_X, test_X, train_y, test_y, max_leaf_nodes):\n",
    "    model = RandomForestRegressor(max_leaf_nodes = max_leaf_nodes, \n",
    "                                  random_state=0)\n",
    "    model.fit(train_X, train_y)\n",
    "    preds_y = model.predict(test_X)\n",
    "    mae = mean_absolute_error(test_y, preds_y)\n",
    "    return mae\n",
    "\n",
    "\n",
    "def random_forest_crossval_mae(data_X, data_y, max_leaf_nodes, no_of_iterations):\n",
    "    \n",
    "    n = no_of_iterations\n",
    "    \n",
    "    list_of_maes = []\n",
    "    \n",
    "    for i in range(0, n):\n",
    "        X_train, X_test, y_train, y_test = train_test_split(data_X, data_y, \n",
    "                                                            test_size=0.4, random_state=i)\n",
    "        mae = random_forest_mae(X_train, X_test, y_train, y_test, max_leaf_nodes)\n",
    "        list_of_maes.append(mae)\n",
    "    ret = sum(list_of_maes) / len(list_of_maes)\n",
    "    \n",
    "    return ret\n",
    "\n",
    "\n",
    "def best_max_leaf_nodes_2(n, data_X, data_y):\n",
    "    x =[]\n",
    "    for i in range(2, n):\n",
    "        x.append(random_forest_crossval_mae(data_X, data_y, i, 25))\n",
    "    m = min(x)\n",
    "    ret = [i for i, j in enumerate(x) if j == m]\n",
    "    ret = min(ret) + 2\n",
    "    print(\"max leaf nodes:\", ret)\n",
    "    return ret\n",
    "\n",
    "\n",
    "def random_forest_model(data_X, data_y):\n",
    "    \n",
    "    max_leaf_nodes = best_max_leaf_nodes_2(25, data_X, data_y)\n",
    "    model = RandomForestRegressor(max_leaf_nodes = max_leaf_nodes, \n",
    "                                  random_state=0)\n",
    "    model.fit(data_X, data_y)\n",
    "    \n",
    "    return model\n"
   ]
  },
  {
   "cell_type": "code",
   "execution_count": 399,
   "metadata": {},
   "outputs": [
    {
     "name": "stdout",
     "output_type": "stream",
     "text": [
      "('max leaf nodes:', 11)\n"
     ]
    },
    {
     "data": {
      "text/plain": [
       "2.7428310998180567"
      ]
     },
     "execution_count": 399,
     "metadata": {},
     "output_type": "execute_result"
    }
   ],
   "source": [
    "model_tester(random_forest_model, X1, y1, X2, y2)"
   ]
  },
  {
   "cell_type": "code",
   "execution_count": 397,
   "metadata": {},
   "outputs": [
    {
     "name": "stdout",
     "output_type": "stream",
     "text": [
      "('max leaf nodes:', 4)\n"
     ]
    },
    {
     "data": {
      "text/plain": [
       "3.9083218766111019"
      ]
     },
     "execution_count": 397,
     "metadata": {},
     "output_type": "execute_result"
    }
   ],
   "source": [
    "model_tester(decision_tree_model, X1, y1, X2, y2)"
   ]
  },
  {
   "cell_type": "code",
   "execution_count": 401,
   "metadata": {},
   "outputs": [
    {
     "name": "stdout",
     "output_type": "stream",
     "text": [
      "('max leaf nodes:', 11)\n"
     ]
    }
   ],
   "source": [
    "model = random_forest_model(X1, y1)"
   ]
  },
  {
   "cell_type": "code",
   "execution_count": 410,
   "metadata": {},
   "outputs": [
    {
     "ename": "TypeError",
     "evalue": "unsupported operand type(s) for +: 'int' and 'str'",
     "output_type": "error",
     "traceback": [
      "\u001b[0;31m---------------------------------------------------------------------------\u001b[0m",
      "\u001b[0;31mTypeError\u001b[0m                                 Traceback (most recent call last)",
      "\u001b[0;32m<ipython-input-410-5e47354b8d3d>\u001b[0m in \u001b[0;36m<module>\u001b[0;34m()\u001b[0m\n\u001b[1;32m      1\u001b[0m \u001b[0my_preds\u001b[0m \u001b[0;34m=\u001b[0m \u001b[0mmodel\u001b[0m\u001b[0;34m.\u001b[0m\u001b[0mpredict\u001b[0m\u001b[0;34m(\u001b[0m\u001b[0mX2\u001b[0m\u001b[0;34m)\u001b[0m\u001b[0;34m\u001b[0m\u001b[0m\n\u001b[0;32m----> 2\u001b[0;31m \u001b[0my\u001b[0m \u001b[0;34m=\u001b[0m \u001b[0msum\u001b[0m\u001b[0;34m(\u001b[0m\u001b[0my2\u001b[0m\u001b[0;34m)\u001b[0m\u001b[0;34m\u001b[0m\u001b[0m\n\u001b[0m",
      "\u001b[0;31mTypeError\u001b[0m: unsupported operand type(s) for +: 'int' and 'str'"
     ]
    }
   ],
   "source": [
    "y_preds = model.predict(X2)\n",
    "y = sum(y2)"
   ]
  },
  {
   "cell_type": "code",
   "execution_count": 403,
   "metadata": {},
   "outputs": [
    {
     "data": {
      "text/plain": [
       "array([ 3.95310833,  4.18854167, -0.2531    ,  2.683375  ,  3.77394167,\n",
       "        2.364275  ,  3.55620833, -0.20930238, -1.15351071,  0.64288214,\n",
       "       -0.48336786,  1.97691587,  1.24957659,  1.45907659,  2.53491587,\n",
       "        2.70977183,  3.30296429, -0.20930238,  1.37092262,  0.96563095,\n",
       "       -3.99220833,  1.41891667, -2.98976407])"
      ]
     },
     "execution_count": 403,
     "metadata": {},
     "output_type": "execute_result"
    }
   ],
   "source": [
    "y_preds"
   ]
  },
  {
   "cell_type": "code",
   "execution_count": null,
   "metadata": {
    "collapsed": true
   },
   "outputs": [],
   "source": []
  }
 ],
 "metadata": {
  "kernelspec": {
   "display_name": "Python 2",
   "language": "python",
   "name": "python2"
  },
  "language_info": {
   "codemirror_mode": {
    "name": "ipython",
    "version": 2
   },
   "file_extension": ".py",
   "mimetype": "text/x-python",
   "name": "python",
   "nbconvert_exporter": "python",
   "pygments_lexer": "ipython2",
   "version": "2.7.14"
  }
 },
 "nbformat": 4,
 "nbformat_minor": 2
}
